{
 "cells": [
  {
   "cell_type": "markdown",
   "metadata": {},
   "source": [
    "### Parallelize the following code using the @delayed decorator of Dask and derive the task execution graph.\n",
    "\n",
    "```python\n",
    "def sum_up(l): #takes a list of numbers as input\n",
    "    return sum(l)\n",
    "\n",
    "def cube(n):\n",
    "    return n**3\n",
    "\n",
    "total = []\n",
    "for i in range(1,10):\n",
    "    total.append(cube(i))\n",
    "\n",
    "print(sum_up(total))\n",
    "```"
   ]
  },
  {
   "cell_type": "code",
   "execution_count": 2,
   "metadata": {},
   "outputs": [],
   "source": [
    "from dask import delayed"
   ]
  },
  {
   "cell_type": "code",
   "execution_count": 4,
   "metadata": {},
   "outputs": [],
   "source": [
    "@delayed\n",
    "def sum_up(l): #takes a list of numbers as input\n",
    "    return sum(l)\n",
    "\n",
    "def cube(n):\n",
    "    return n**3\n",
    "\n",
    "total = []\n",
    "for i in range(1,10):\n",
    "    total.append(cube(i))\n",
    "\n",
    "dasksum = sum_up(total)"
   ]
  },
  {
   "cell_type": "code",
   "execution_count": 8,
   "metadata": {},
   "outputs": [
    {
     "data": {
      "text/plain": [
       "2025"
      ]
     },
     "metadata": {},
     "output_type": "display_data"
    }
   ],
   "source": [
    "display(\n",
    "#     dasksum.visualize(),\n",
    "    dasksum.compute()\n",
    ")"
   ]
  },
  {
   "cell_type": "markdown",
   "metadata": {},
   "source": [
    "### Parallelize the following code using the @delayed decorator of Dask and derive the task execution graph.\n",
    "\n",
    "```python\n",
    "# first two fibonacci numbers\n",
    "fibonacci_nums = [1,1]\n",
    "\n",
    "# returns the nth fibonacci number\n",
    "def get_nth_fibonacci_number(n):\n",
    "    if n == 1:\n",
    "        return fibonacci_nums[0]\n",
    "    elif n == 2:\n",
    "        return fibonacci_nums[1]\n",
    "    else:\n",
    "        return get_nth_fibonacci_number(n-1) + get_nth_fibonacci_number(n-2)\n",
    "\n",
    "print(get_nth_fibonacci_number(10))\n",
    "```"
   ]
  },
  {
   "cell_type": "code",
   "execution_count": 16,
   "metadata": {},
   "outputs": [],
   "source": [
    "# first two fibonacci numbers\n",
    "fibonacci_nums = [1,1]\n",
    "\n",
    "# returns the nth fibonacci number\n",
    "@delayed\n",
    "def get_nth_fibonacci_number(n):\n",
    "    if n == 1:\n",
    "        return fibonacci_nums[0]\n",
    "    elif n == 2:\n",
    "        return fibonacci_nums[1]\n",
    "    else:\n",
    "        return get_nth_fibonacci_number(n-1).compute() + get_nth_fibonacci_number(n-2).compute()\n",
    "\n",
    "daskfib = get_nth_fibonacci_number(10)"
   ]
  },
  {
   "cell_type": "code",
   "execution_count": 17,
   "metadata": {},
   "outputs": [
    {
     "data": {
      "text/plain": [
       "55"
      ]
     },
     "metadata": {},
     "output_type": "display_data"
    }
   ],
   "source": [
    "display(\n",
    "#     daskfib.visualize(),\n",
    "    daskfib.compute()\n",
    ")"
   ]
  }
 ],
 "metadata": {
  "kernelspec": {
   "display_name": "Python 3",
   "language": "python",
   "name": "python3"
  },
  "language_info": {
   "codemirror_mode": {
    "name": "ipython",
    "version": 3
   },
   "file_extension": ".py",
   "mimetype": "text/x-python",
   "name": "python",
   "nbconvert_exporter": "python",
   "pygments_lexer": "ipython3",
   "version": "3.7.4"
  }
 },
 "nbformat": 4,
 "nbformat_minor": 4
}
